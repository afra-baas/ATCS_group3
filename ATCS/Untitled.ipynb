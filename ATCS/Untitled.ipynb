{
 "cells": [
  {
   "cell_type": "code",
   "execution_count": 33,
   "id": "9c4b91fa",
   "metadata": {},
   "outputs": [
    {
     "name": "stdout",
     "output_type": "stream",
     "text": [
      "(\"Ca c'est du vol... Vous ne recevrez q'une lame alors que la photo en représente plusieurs. Il y a tromperie sur la marchandise.\", 1)\n",
      "[('Je n’ai jamais reçu le colis. J’ai écrit 4 fois au vendeur, il ne m’a jamais daigné me répondre ne serait ce une fois. Ils ont encaissé l’argent. C’est une belle arnaque et du vol. Je vais aller porter plainte à la gendarmerie contre ces vendeurs pour vol et escroquerie.', \"je pense qu'il y a une faute d'orthographe dans la description de cette merveilleuse clouteuse qui cloue sans broncher tout ce qu'on lui présente. j'aime bien l'orange ça me rappelle l'Espagne.\", 'Pijama avec Mickey. Aucun souci', \"Pratique car j'ai tendance à casser les petits forêt. J'en ai maintenant une réserve. Ils sont ranger dans des boîtes plastiques. Plutôt sympa vu le prix\", \"Très bon produit, mais attention c'est assez lourd, on le sent bien dans le sac a dos, sinon au top perme de recharger plusieurs appareils plusieurs fois.\", 'correspond au descriptif', \"Vraiment déçu par cet achat et retour direct à Amazon France. Plusieurs problèmes après juste quelques heures d'utilisation: le support USB qu'on enfiche dans la prise de l'ordi se détache en deux morceaux !!! sportif pour essayer de récupérer le bout resté coincé dans la prise USB. Pour déplacer la flèche, il faut utiliser le pad tactile, problème, il faut avoir la bonne humidité aux doigts sinon cela ne marche pas, la flèche se balade comme elle veut. Pour cliquer, il faut utiliser le pavé à gauche en bas, mais pas pratique, car il faut souvent s'y reprendre à deux fois. Quand on tape une touche, souvent rien ne vient à l'écran. Le clavier lui-même est trop petit, et pas ergonomique, on fatigue très vite et pourtant je ne tape pas beaucoup. Conclusion: vraiment du matériel de très bas de gamme et ainsi trop cher pour ce prix, à éviter absolument, j'ai commandé un clavier Logitech sans fil avec des touches de taille normale et la souris sans fil qui va avec, on verra bien.\", 'Livraison dans les délais, emballage suffisant pour le produit. Livré avec un mode opératoire. Une fois associées aux automates installés, cela fonctionne parfaitement et nous pouvons avoir chacun une télécommande.', 'deux mois plus tard toujours pas reçu le produit', \"Je suis très satisfait de cette perche j'ai créé des prises de vue réellement extraordinaire grâce à mes caméra 360 j'ai utilisé aussi la fois dernière ma GoPro et la perspective donne des points de vue extraordinaire le seul petit défaut de celui-ci et qu'il n'est pas réglable en quart de tour comme les autres perche afin de pouvoir choisir sa hauteur sachez que vous ne pouvez pas le faire c'est où tout ou rien c'est pour cela que je lui ai enlevé une étoile\", 'Les crêpes Colle déçu en vue du prix', \"Le clavier est léger, correct mais pas toujours fiable : il se déconnecte souvent alors que je ne suis qu'à 3 mètres et le pavé tactile est un peu capricieux. Par contre, il est tombé en panne subitement, et je n'arrive plus à le recharger. Le vendeur me répond aujourd'hui qu'il est hors garantie. Et non ! La durée de garantie légale en France est de 2 ans. Donc, attention, et vigilance quant au vendeur, qui ne semble pas vouloir respecter ses obligations.\", 'Pour la longévité à voir', \"si ce n'est le porteur qui a posé le colis alors que je n'étais pas là et l'a posé alors qu'il aurait pu être volé : tant mieux pour moi, il ne c'est rien passé\", 'Utilisation sur bandit 1200 Bonne visibilité mais vivre énormément', 'Bonjour, j\\'avais fait le tour des commentaires car le câble USB \"c\" qui sert à charger l\\'aphone ou l\\'Ipad n\\'est pas là que pour ça! Sans ce câble avec un iPad Pro, les vidéos ne fonctionnent pas, du moins l\\'appareil n\\'est pas reconnu. Il faut alimenter l\\'Ipad Pro avec. Cela demande un branchement supplémentaire et change considérablement la donne sur l\\'achat. Je me permet donc de mettre non seulement des réserves pour ceux qui souhaitent s\\'emballer dans l\\'achat de ce produit mais c\\'est un fait. Cela fonctionne avec un iPad Pro en alimentant en parallèle l\\'adaptateur sur une prise de courant, une prise PC ne suffit pas.', \"La boite est arrivée un peu abîmée donc ouverte. Le contenu est cependant en bon état, donc je le conserve. C'est pour un usage domestique et non professionnel. cela devrait convenir même sur le long terme.\", 'Il m’a l’air solide. Reste à voir dans le temps. La finition est correcte et les logements pour les cartes sont très ajustées.', 'Rien appris de nouveau ,je suis déçus!!', 'Produit arrivé parfaitement emballé, dans une boite et chaque ampoule est également emballé dans une boite plus petite, installée il y a 2-3 semaines et marchent parfaitement. Bien moins cher que dans le commerce classique. Je recommande!', 'Une sortie et un rétro qui ne tient plus ,impossible de la resserrer, la vie ce trouve derrière la glace', 'sur le coup pas contente car je n avais pas comprit le descriptif au dos du carton et puis en fait il faut humidifier le papier pour decoller les stickers et sa marche bien donc je valide', 'Pour Bingo produit au top ne coule pas je le recommande', 'Très pratique pour la pâte à crêpes étanche petit inconvénient les bords de la poignée sont un peu coupant lors du nettoyage', 'Conforme à la description. Un verre arrivé cassé malgré un emballage très pro. Remboursement immédiat . Je recommande .', 'Parfait pour le prix', \"esthétique, pratique, imperméable mais peu solide, celui ci tient mais le deuxième s'est fendu sur toute sa longueur dès le deuxième promenade.\", \"les poignées sont hyper chaudes a prendre avec des gants, très déçus par Tefal. l'ingénieur qui a conçu ca, doit être licencier pour incompétences graves.\", 'Un des verres était déjà cassé. Le deuxième je le mets. Je suis pas à pas la procédure mais le verre ne colle pas sur les bords du coup ça fait créé un endroit parfait pour la poussière et autre machins. Très déçue. Surtout pour ce prix.', 'Le fait qu il soit extensible est une bonne idee mais ca le rend beaucoup plus fragile et bancal. Il manque des tiges pour le maintenir vraiment completement du coup ça bouge quand meme. À eviter si vous comptez vous en servir beaucoup de fois.', 'Je ne m’attendais pas à ce qu’elle brille autant ! Un point très négatif : le clapet ne se remet pas tout seul et reste à la verticale donc avec des enfants, vous passerez constamment derrière pour le remettre en place... Dommage car c’est quand même la principale chose qu’on attend d’une poubelle à clapet !', 'Bonjour, sur le suivi il est dit que le colis a été livré en main propre depuis hier, hors je n’ai vue personne et n’ai rien reçu. Pas d’avis de passage, aucun voisin qui n’a reçu le colis, j’avais pourtant mis la bonne adresse de livraison lors du paiement ? Que puis je faire de plus ?? Cordialement'), tensor([1, 5, 4, 3, 4, 3, 1, 4, 1, 4, 1, 2, 5, 4, 3, 3, 4, 4, 1, 5, 1, 3, 5, 4,\n",
      "        4, 5, 3, 2, 1, 3, 2, 1])]\n"
     ]
    }
   ],
   "source": [
    "import os\n",
    "import json\n",
    "import torch\n",
    "import torchtext\n",
    "import torch.nn.utils.rnn as rnn_utils\n",
    "\n",
    "class MARCDataset(torch.utils.data.Dataset):\n",
    "    def __init__(self, data_path, tokenizer):\n",
    "        self.data_path = data_path\n",
    "        self.tokenizer = tokenizer\n",
    "        \n",
    "    def __getitem__(self, idx):\n",
    "        file_path = self.data_path\n",
    "        with open(self.data_path, 'r', encoding='utf-8') as f:\n",
    "            for i, line in enumerate(f):\n",
    "                if i == idx:\n",
    "                    data = json.loads(line)\n",
    "                    break\n",
    "        label = int(data['stars'])\n",
    "        text = data['review_body']\n",
    "        #text = self.tokenizer(text)\n",
    "        #print(text)\n",
    "        return text, label\n",
    "    \n",
    "    def __len__(self):\n",
    "        with open(self.data_path, 'r', encoding='utf-8') as f:\n",
    "            num_lines = sum(1 for line in f)\n",
    "        return num_lines\n",
    "\n",
    "def create_dataloader(batch_size, language, dataset_type):\n",
    "    #batch_size = 32\n",
    "    languages = {\"English\": 'en', \"German\": 'de', \"Spanish\": 'es', \"French\": 'fr', \"Japanese\": \"ja\", \"Chinese\":\"zh\"}\n",
    "    data_path = 'dataset_{}_{}.json'.format(languages[language], dataset_type)\n",
    "    tokenizer = torchtext.data.utils.get_tokenizer('basic_english')\n",
    "    marc_dataset = MARCDataset(data_path, tokenizer)\n",
    "    print(marc_dataset[0])\n",
    "    marc_dataloader = torch.utils.data.DataLoader(marc_dataset, batch_size=batch_size, shuffle=True)\n",
    "    for i in marc_dataloader:\n",
    "        print(i)\n",
    "        break\n",
    "        \n",
    "create_dataloader(32, \"French\", \"test\")\n"
   ]
  },
  {
   "cell_type": "code",
   "execution_count": null,
   "id": "35bd99e7",
   "metadata": {},
   "outputs": [],
   "source": []
  }
 ],
 "metadata": {
  "kernelspec": {
   "display_name": "Python 3 (ipykernel)",
   "language": "python",
   "name": "python3"
  },
  "language_info": {
   "codemirror_mode": {
    "name": "ipython",
    "version": 3
   },
   "file_extension": ".py",
   "mimetype": "text/x-python",
   "name": "python",
   "nbconvert_exporter": "python",
   "pygments_lexer": "ipython3",
   "version": "3.9.12"
  }
 },
 "nbformat": 4,
 "nbformat_minor": 5
}
